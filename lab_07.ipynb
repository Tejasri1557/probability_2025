{
  "nbformat": 4,
  "nbformat_minor": 0,
  "metadata": {
    "colab": {
      "provenance": [],
      "authorship_tag": "ABX9TyM5MU0SvSFBCaM//p/YX2yQ",
      "include_colab_link": true
    },
    "kernelspec": {
      "name": "python3",
      "display_name": "Python 3"
    },
    "language_info": {
      "name": "python"
    }
  },
  "cells": [
    {
      "cell_type": "markdown",
      "metadata": {
        "id": "view-in-github",
        "colab_type": "text"
      },
      "source": [
        "<a href=\"https://colab.research.google.com/github/Tejasri1557/probability_2025/blob/main/lab_07.ipynb\" target=\"_parent\"><img src=\"https://colab.research.google.com/assets/colab-badge.svg\" alt=\"Open In Colab\"/></a>"
      ]
    },
    {
      "cell_type": "code",
      "source": [
        "import numpy as np\n",
        "import scipy.stats as stats\n"
      ],
      "metadata": {
        "id": "KMffq0VBbAua"
      },
      "execution_count": 6,
      "outputs": []
    },
    {
      "cell_type": "code",
      "source": [
        "data=[8800, 10000, 7000, 9900, 9950, 8200, 10100, 9000, 9700, 10800, 10000, 10250, 10300, 9900,\n",
        "4000, 6000, 6500]"
      ],
      "metadata": {
        "id": "7hi8_35IbTnN"
      },
      "execution_count": 7,
      "outputs": []
    },
    {
      "cell_type": "code",
      "source": [
        "#Step 1: Compute sample statistics\n",
        "sample_mean = np.mean(data)\n",
        "# Sample mean\n",
        "sample_std = np.std(data, ddof=1) # Sample standard deviation (unbiased estimator)\n",
        "n = len(data) # Sample size\n",
        "sample_variance = np.var(data, ddof=1)\n",
        "#Step-2\n",
        "confidence_level = 0.95\n",
        "alpha= 1 -confidence_level # Significance level\n",
        "t_critical =stats.t.ppf (1- alpha/2, df=n-1) #t-critical value\n",
        "#Margin of Error\n",
        "margin_of_error = t_critical * (sample_std / np.sqrt(n))\n",
        "confidence_interval = (sample_mean- margin_of_error, sample_mean + margin_of_error)"
      ],
      "metadata": {
        "id": "q7d9MbCTbW-l"
      },
      "execution_count": 8,
      "outputs": []
    },
    {
      "cell_type": "code",
      "source": [
        "#Step 3: Hypothesis Test Decision\n",
        "hypothesized_mean =10000\n",
        "if hypothesized_mean >= confidence_interval[0] and hypothesized_mean <= confidence_interval[1]:\n",
        "  decision=\"Fail to reject Ho: No significant difference from 10000\"\n",
        "else:\n",
        "  decision =\"Reject Ho: Significant difference from 10000\"\n",
        "# Print results\n",
        "print(f\"Sample Mean: {sample_mean:.2f}\")\n",
        "print(f\"Sample Variance: {sample_variance:.2f}\")\n",
        "print(f\"Sample Standard Deviation: {sample_std:.2f}\")\n",
        "print(f\"95% Confidence Interval: {confidence_interval}\")\n",
        "print(f\"Hypothesis Test Decision: {decision}\")"
      ],
      "metadata": {
        "colab": {
          "base_uri": "https://localhost:8080/"
        },
        "id": "yItEjSfRbbUg",
        "outputId": "1524fe0f-631a-40f0-c2f5-f18065f5f971"
      },
      "execution_count": 9,
      "outputs": [
        {
          "output_type": "stream",
          "name": "stdout",
          "text": [
            "Sample Mean: 8847.06\n",
            "Sample Variance: 3577959.56\n",
            "Sample Standard Deviation: 1891.55\n",
            "95% Confidence Interval: (np.float64(7874.513805351635), np.float64(9819.60384170719))\n",
            "Hypothesis Test Decision: Reject Ho: Significant difference from 10000\n"
          ]
        }
      ]
    }
  ]
}